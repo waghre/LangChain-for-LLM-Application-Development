{
 "cells": [
  {
   "cell_type": "code",
   "execution_count": 3,
   "metadata": {},
   "outputs": [
    {
     "data": {
      "text/plain": [
       "True"
      ]
     },
     "execution_count": 3,
     "metadata": {},
     "output_type": "execute_result"
    }
   ],
   "source": [
    "from dotenv import load_dotenv\n",
    "load_dotenv(r'C:\\Users\\DELL\\OneDrive\\Desktop\\chatbot\\env')  # Load environment variables, such as API keys"
   ]
  },
  {
   "cell_type": "code",
   "execution_count": 6,
   "metadata": {},
   "outputs": [
    {
     "data": {
      "text/markdown": [
       "\n",
       "\n",
       "|Name| Summary|\n",
       "|---|---|\n",
       "|Men's Tropical Plaid Short-Sleeve Shirt| Rated UPF 50+ for superior protection from the sun's UV rays. Made of 100% polyester, wrinkle-resistant with front and back cape venting and two front bellows pockets. Provides highest rated sun protection possible. |\n",
       "|Men's Plaid Tropic Shirt, Short-Sleeve| Rated UPF 50+ and great for extended travel. SunSmart technology blocks 98% of the sun's harmful UV rays. Made with 52% polyester and 48% nylon, wrinkle-free and quick-drying. Front and back cape venting, two front bellows pockets. |\n",
       "|Men's TropicVibe Shirt, Short-Sleeve| Built-in UPF 50+ coverage with a lightweight feel. Traditional fit with front and back cape venting and two front bellows pockets. Made with 71% nylon and 29% polyester. |\n",
       "|Sun Shield Shirt by| High-performance sun shirt guaranteed to protect from harmful UV rays. Made with 78% nylon and 22% Lycra Xtra Life fiber, rated UPF 50+. Moisture-wicking and abrasion-resistant. Fits comfortably over"
      ],
      "text/plain": [
       "<IPython.core.display.Markdown object>"
      ]
     },
     "metadata": {},
     "output_type": "display_data"
    }
   ],
   "source": [
    "# Import necessary modules\n",
    "from langchain.chains import RetrievalQA  # For setting up a retrieval-based QA system\n",
    "from langchain.chat_models import ChatOpenAI  # For using OpenAI's chat models for generating responses\n",
    "from langchain.document_loaders import CSVLoader  # For loading CSV files as documents\n",
    "from langchain.vectorstores import DocArrayInMemorySearch  # In-memory search for document similarity search\n",
    "from IPython.display import display, Markdown  # For displaying markdown output in Jupyter notebooks\n",
    "from langchain.llms import OpenAI  # For integrating OpenAI's language models\n",
    "import pandas as pd  # For reading and manipulating data with DataFrames\n",
    "\n",
    "# Import VectorstoreIndexCreator from langchain.indexes\n",
    "from langchain.indexes import VectorstoreIndexCreator  # Import the missing class\n",
    "\n",
    "# Set up OpenAI model (GPT-3.5 turbo with instruction fine-tuning)\n",
    "llm = OpenAI(model='gpt-3.5-turbo-instruct', temperature=0.9)  # Set up the language model with specific parameters\n",
    "\n",
    "# Load the dataset into a pandas dataframe\n",
    "df = pd.read_csv('OutdoorClothingCatalog_1000.csv')  # Load the catalog CSV file into a DataFrame\n",
    "df  # Display the DataFrame to inspect the content\n",
    "\n",
    "# Initialize a document loader for the CSV file (used in langchain for loading documents)\n",
    "file = 'OutdoorClothingCatalog_1000.csv'  # File path to the CSV\n",
    "loader = CSVLoader(file_path=file)  # Use CSVLoader to load the CSV as documents\n",
    "\n",
    "# Embedding model setup using OpenAI Embeddings for semantic search\n",
    "from langchain.embeddings import OpenAIEmbeddings  # Import OpenAI's embedding model\n",
    "\n",
    "embedding = OpenAIEmbeddings()  # Initialize the embedding model\n",
    "\n",
    "# Create a vector store using the loaded documents and embeddings\n",
    "index = VectorstoreIndexCreator(\n",
    "    vectorstore_cls=DocArrayInMemorySearch,  # Choose in-memory search for vector storage\n",
    "    embedding=embedding  # Use the defined embedding model\n",
    ").from_loaders([loader])  # Load documents via the CSV loader into the vector store\n",
    "\n",
    "# Query to search for shirts with sun protection from the catalog using the index\n",
    "query = \"Please list all your shirts with sun protection in a table in markdown and summarize each one.\"  # Query to the model\n",
    "response = index.query(query, llm=llm)  # Query the index for relevant documents and generate a response using the model\n",
    "display(Markdown(response))  # Display the generated response as markdown"
   ]
  },
  {
   "cell_type": "code",
   "execution_count": 7,
   "metadata": {},
   "outputs": [
    {
     "name": "stdout",
     "output_type": "stream",
     "text": [
      "1536\n",
      "[-0.021990482046978697, 0.006746508733548099, -0.018174780766530476, -0.039186236021381875, -0.014045289898302837]\n"
     ]
    },
    {
     "name": "stderr",
     "output_type": "stream",
     "text": [
      "C:\\Users\\DELL\\AppData\\Local\\Temp\\ipykernel_31008\\3541435525.py:30: LangChainDeprecationWarning: The method `BaseLLM.__call__` was deprecated in langchain-core 0.1.7 and will be removed in 1.0. Use :meth:`~invoke` instead.\n",
      "  response = llm(f\"{qdocs} Question: Please list all your shirts with sun protection in a table in markdown and summarize each one.\")\n"
     ]
    },
    {
     "name": "stdout",
     "output_type": "stream",
     "text": [
      "\n",
      "\n",
      "| Name | Description | SPF Rating |\n",
      "|------|-------------|------------|\n",
      "| Sun Shield Shirt | High-performance sun shirt with UPF 50+ protection. Moisture-wicking and abrasion resistant. | 374 |\n",
      "| Men's Plaid Tropic Shirt | Ultracomfortable shirt with UPF 50+ coverage. Wrinkle-free and quick-drying. | 535 |\n",
      "| Men's TropicVibe Shirt | Lightweight shirt with built-in UPF 50+ protection. Front and back cape venting for cool breezes. | 618 |\n",
      "| Men's Tropical Plaid Short-Sleeve Shirt | Lightest hot-weather shirt with UPF 50+ rating. Wrinkle-resistant and features front and back cape venting. | 98% |\n",
      "\n",
      "\n",
      "\u001b[1m> Entering new RetrievalQA chain...\u001b[0m\n"
     ]
    },
    {
     "name": "stderr",
     "output_type": "stream",
     "text": [
      "C:\\Users\\DELL\\AppData\\Local\\Temp\\ipykernel_31008\\3541435525.py:47: LangChainDeprecationWarning: The method `Chain.run` was deprecated in langchain 0.1.0 and will be removed in 1.0. Use :meth:`~invoke` instead.\n",
      "  response = qa_stuff.run(query)  # Run the QA system to get a response based on the query and retriever\n"
     ]
    },
    {
     "name": "stdout",
     "output_type": "stream",
     "text": [
      "\n",
      "\u001b[1m> Finished chain.\u001b[0m\n"
     ]
    },
    {
     "data": {
      "text/markdown": [
       "\n",
       "\n",
       "| Name | Description | Sun Protection Rating |\n",
       "| --- | --- | --- |\n",
       "| Men's Tropical Plaid Short-Sleeve Shirt | Made of 100% polyester, UPF 50+ rated, wrinkle-resistant, front and back cape venting, two front bellows pockets, imported | SPF 50+, blocks 98% of harmful UV rays |\n",
       "| Men's Plaid Tropic Shirt, Short-Sleeve | Made of 52% polyester and 48% nylon, UPF 50+ rated, SunSmart technology, wrinkle-free, front and back cape venting, two front bellows pockets, imported | SPF 50+, blocks 98% of harmful UV rays |\n",
       "| Men's TropicVibe Shirt, Short-Sleeve | Made of 71% nylon and 29% polyester, UPF 50+ rated, wrinkle-resistant, front and back cape venting, two front bellows pockets, imported | SPF 50+, blocks 98% of harmful UV rays |\n",
       "| Sun Shield Shirt | Made of 78% nylon and 22% Lycra Xtra Life fiber, UPF 50+ rated, moisture-wicking, fits comfortably over swimsuit, abrasion-resistant, imported | SPF"
      ],
      "text/plain": [
       "<IPython.core.display.Markdown object>"
      ]
     },
     "metadata": {},
     "output_type": "display_data"
    },
    {
     "data": {
      "text/markdown": [
       "\n",
       "\n",
       "| Name | Description | Sun Protection Rating |\n",
       "| --- | --- | --- |\n",
       "| Men's Tropical Plaid Short-Sleeve Shirt | Made of 100% polyester, UPF 50+ rating, wrinkle-resistant, front and back cape venting, two front bellows pockets | SPF 50+, blocks 98% of harmful UV rays |\n",
       "| Men's Plaid Tropic Shirt, Short-Sleeve | Made of 52% polyester and 48% nylon, UPF 50+ rating, SunSmart technology, wrinkle-free, front and back cape venting, two front bellows pockets | SPF 50+, blocks 98% of harmful UV rays |\n",
       "| Men's TropicVibe Shirt, Short-Sleeve | Made of 71% nylon and 29% polyester, UPF 50+ rating, front and back cape venting, two front bellows pockets | SPF 50+, blocks 98% of harmful UV rays |\n",
       "| Sun Shield Shirt | Made of 78% nylon and 22% Lycra Xtra Life fiber, UPF 50+ rating, moisture-wicking, abrasion-resistant, fits over swimsuit | SPF 50+, blocks 98% of harmful UV rays |"
      ],
      "text/plain": [
       "<IPython.core.display.Markdown object>"
      ]
     },
     "metadata": {},
     "output_type": "display_data"
    },
    {
     "data": {
      "text/markdown": [
       "\n",
       "\n",
       "| Name | Description | Sun Protection Rating |\n",
       "| --- | --- | --- |\n",
       "| Men's Tropical Plaid Short-Sleeve Shirt | Made of 100% polyester, UPF 50+ rating, wrinkle-resistant, front and back cape venting, two front bellows pockets | SPF 50+, blocks 98% of harmful UV rays |\n",
       "| Men's Plaid Tropic Shirt, Short-Sleeve | Made of 52% polyester and 48% nylon, UPF 50+ rating, SunSmart technology, wrinkle-free, front and back cape venting, two front bellows pockets | SPF 50+, blocks 98% of harmful UV rays |\n",
       "| Men's TropicVibe Shirt, Short-Sleeve | Made of 71% nylon and 29% polyester, UPF 50+ rating, front and back cape venting, two front bellows pockets | SPF 50+, blocks 98% of harmful UV rays |\n",
       "| Sun Shield Shirt | Made of 78% nylon and 22% Lycra Xtra Life fiber, UPF 50+ rating, moisture-wicking, abrasion-resistant, fits over swimsuit | SPF 50+, blocks 98% of harmful UV rays |"
      ],
      "text/plain": [
       "<IPython.core.display.Markdown object>"
      ]
     },
     "metadata": {},
     "output_type": "display_data"
    }
   ],
   "source": [
    "# Reload documents and initialize embeddings again (this section is redundant in the context of the previous code)\n",
    "from langchain.document_loaders import CSVLoader  # Re-import CSVLoader (this is already imported earlier)\n",
    "from langchain.embeddings import OpenAIEmbeddings  # Re-import OpenAI embeddings (already done earlier)\n",
    "from langchain.llms import OpenAI  # Re-import OpenAI LLM (already done earlier)\n",
    "from langchain.vectorstores import DocArrayInMemorySearch  # Re-import vectorstore (already done earlier)\n",
    "\n",
    "# Load documents from the CSV again\n",
    "file = 'OutdoorClothingCatalog_1000.csv'  # File path to the CSV\n",
    "loader = CSVLoader(file_path=file)  # Use CSVLoader to load the CSV file into documents\n",
    "docs = loader.load()  # Load documents into a list\n",
    "\n",
    "# Generate query embeddings for semantic search\n",
    "embeddings = OpenAIEmbeddings()  # Initialize the embedding model\n",
    "embed = embeddings.embed_query(\"Hi my name is Harrison\")  # Embed a sample query (\"Hi my name is Harrison\") into vector space\n",
    "print(len(embed))  # Print the length of the embedded vector (how many dimensions it has)\n",
    "print(embed[:5])  # Print the first 5 values of the embedding vector for inspection\n",
    "\n",
    "# Create the vector store from the documents using the generated embeddings\n",
    "db = DocArrayInMemorySearch.from_documents(docs, embeddings)  # Create an in-memory vector store from documents using embeddings\n",
    "\n",
    "# Perform a similarity search with a query to find the most relevant documents\n",
    "query = \"Please suggest a shirt with sunblocking\"  # Query asking for a shirt with sun protection\n",
    "docs = db.similarity_search(query)  # Search for similar documents in the vector store\n",
    "qdocs = \"\".join([doc.page_content for doc in docs])  # Combine the contents of the retrieved documents into a single string\n",
    "\n",
    "# LLM setup for generating responses\n",
    "llm = OpenAI(temperature=0)  # Initialize OpenAI model again, this time with lower temperature for deterministic responses\n",
    "\n",
    "# Generate response using the retrieved documents\n",
    "response = llm(f\"{qdocs} Question: Please list all your shirts with sun protection in a table in markdown and summarize each one.\")  \n",
    "# Generate a response from the model using the retrieved documents and query, formatted with additional context\n",
    "print(response)  # Print the response to the console\n",
    "\n",
    "# Create a retriever from the vector store to be used in the QA system\n",
    "retriever = db.as_retriever()  # Create a retriever object from the vector store to query it\n",
    "\n",
    "# Initialize a RetrievalQA system using the created retriever and language model\n",
    "qa_stuff = RetrievalQA.from_chain_type(\n",
    "    llm=llm,  # Language model to use for answering the query\n",
    "    chain_type=\"stuff\",  # Specify the chain type (stuff means the model is given all the retrieved documents)\n",
    "    retriever=retriever,  # The retriever that will get the relevant documents from the vector store\n",
    "    verbose=True  # Set verbose to True to see the steps the system is performing\n",
    ")\n",
    "\n",
    "# Query for retrieving information on shirts with sun protection\n",
    "query =  \"Please list all your shirts with sun protection in a table in markdown and summarize each one.\"  # Query asking for shirts with sun protection\n",
    "response = qa_stuff.run(query)  # Run the QA system to get a response based on the query and retriever\n",
    "\n",
    "# Display the final response as markdown in the Jupyter notebook\n",
    "display(Markdown(response))  # Display the final markdown response\n",
    "\n",
    "# Query the index again using the initial query and generate a response (duplicate of previous code)\n",
    "response = index.query(query, llm=llm)  # Query the index again for the same question\n",
    "display(Markdown(response))  # Display the response as markdown\n",
    "\n",
    "# Create a vector store from the CSV data and embeddings again (redundant setup, already done earlier)\n",
    "index = VectorstoreIndexCreator(\n",
    "    vectorstore_cls=DocArrayInMemorySearch,  # Choose in-memory search for vector storage\n",
    "    embedding=embeddings,  # Use the defined embedding model\n",
    ").from_loaders([loader])  # Load documents into the vector store\n",
    "\n",
    "# Display the final response again as markdown\n",
    "display(Markdown(response))  # Display the response as markdown"
   ]
  },
  {
   "cell_type": "code",
   "execution_count": null,
   "metadata": {},
   "outputs": [],
   "source": []
  }
 ],
 "metadata": {
  "kernelspec": {
   "display_name": "venv",
   "language": "python",
   "name": "python3"
  },
  "language_info": {
   "codemirror_mode": {
    "name": "ipython",
    "version": 3
   },
   "file_extension": ".py",
   "mimetype": "text/x-python",
   "name": "python",
   "nbconvert_exporter": "python",
   "pygments_lexer": "ipython3",
   "version": "3.12.7"
  }
 },
 "nbformat": 4,
 "nbformat_minor": 2
}
