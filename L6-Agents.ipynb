{
 "cells": [
  {
   "cell_type": "code",
   "execution_count": 2,
   "metadata": {},
   "outputs": [
    {
     "data": {
      "text/plain": [
       "True"
      ]
     },
     "execution_count": 2,
     "metadata": {},
     "output_type": "execute_result"
    }
   ],
   "source": [
    "from dotenv import load_dotenv\n",
    "load_dotenv(r'C:\\Users\\DELL\\OneDrive\\Desktop\\chatbot\\env')"
   ]
  },
  {
   "cell_type": "markdown",
   "metadata": {
    "vscode": {
     "languageId": "plaintext"
    }
   },
   "source": [
    "## Built-in LangChain tools"
   ]
  },
  {
   "cell_type": "code",
   "execution_count": 7,
   "metadata": {},
   "outputs": [
    {
     "name": "stdout",
     "output_type": "stream",
     "text": [
      "\n",
      "\n",
      "\u001b[1m> Entering new AgentExecutor chain...\u001b[0m\n",
      "\u001b[32;1m\u001b[1;3mI can use Python to calculate the square root of a number.\n",
      "Action: Python_REPL\n",
      "Action Input: import math\u001b[0m\n",
      "Observation: \u001b[36;1m\u001b[1;3m\u001b[0m\n",
      "Thought:\u001b[32;1m\u001b[1;3mI imported the math module, now I can use the sqrt function.\n",
      "Action: Python_REPL\n",
      "Action Input: math.sqrt(144)\u001b[0m\n",
      "Observation: \u001b[36;1m\u001b[1;3m\u001b[0m\n",
      "Thought:\u001b[32;1m\u001b[1;3mI now know the final answer\n",
      "Final Answer: 12.0\u001b[0m\n",
      "\n",
      "\u001b[1m> Finished chain.\u001b[0m\n",
      "\n",
      "Response: 12.0\n"
     ]
    }
   ],
   "source": [
    "# Import libraries\n",
    "from langchain.chat_models import ChatOpenAI\n",
    "from langchain_experimental.tools.python.tool import PythonREPLTool\n",
    "from langchain.agents import initialize_agent, AgentType\n",
    "\n",
    "# Step 1: Initialize the LLM (Language Model)\n",
    "# Create an instance of the language model using OpenAI's GPT-3.5-turbo with deterministic outputs (temperature=0)\n",
    "llm = ChatOpenAI(temperature=0, model=\"gpt-3.5-turbo\")\n",
    "\n",
    "# Step 2: Add Python REPL Tool\n",
    "# This tool allows the agent to execute Python code dynamically during the interaction\n",
    "python_tool = PythonREPLTool()\n",
    "\n",
    "# Step 3: Initialize the Agent\n",
    "# The agent will use the LLM and the Python REPL tool. We specify the agent type as ZERO_SHOT_REACT_DESCRIPTION,\n",
    "# which means the agent will decide on its own which tools to use based on the query description.\n",
    "agent = initialize_agent(\n",
    "    tools=[python_tool],  # List of tools the agent can use (in this case, Python REPL)\n",
    "    llm=llm,  # Language model (GPT-3.5-turbo) to process the queries\n",
    "    agent_type=AgentType.ZERO_SHOT_REACT_DESCRIPTION,  # Agent type allowing zero-shot decision making\n",
    "    verbose=True  # Enable verbose output to track the agent's decisions and actions\n",
    ")\n",
    "\n",
    "# Step 4: Test the Agent with a Query\n",
    "# Define a query where we ask the agent to calculate the square root of 144\n",
    "query = \"Calculate the square root of 144\"\n",
    "\n",
    "# Execute the query using the agent and print the response\n",
    "response = agent.run(query)\n",
    "\n",
    "# Step 5: Output the Response\n",
    "print(f\"\\nResponse: {response}\")  # Print the agent's response to the query\n",
    "\n"
   ]
  },
  {
   "cell_type": "code",
   "execution_count": null,
   "metadata": {},
   "outputs": [],
   "source": []
  },
  {
   "cell_type": "code",
   "execution_count": null,
   "metadata": {},
   "outputs": [],
   "source": []
  },
  {
   "cell_type": "code",
   "execution_count": null,
   "metadata": {},
   "outputs": [],
   "source": []
  }
 ],
 "metadata": {
  "kernelspec": {
   "display_name": "venv",
   "language": "python",
   "name": "python3"
  },
  "language_info": {
   "codemirror_mode": {
    "name": "ipython",
    "version": 3
   },
   "file_extension": ".py",
   "mimetype": "text/x-python",
   "name": "python",
   "nbconvert_exporter": "python",
   "pygments_lexer": "ipython3",
   "version": "3.12.7"
  }
 },
 "nbformat": 4,
 "nbformat_minor": 2
}
